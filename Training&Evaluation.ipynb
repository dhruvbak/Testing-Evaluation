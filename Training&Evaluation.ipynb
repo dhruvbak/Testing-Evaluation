{
  "nbformat": 4,
  "nbformat_minor": 5,
  "metadata": {
    "kernelspec": {
      "display_name": "Python 3",
      "language": "python",
      "name": "python3"
    },
    "language_info": {
      "codemirror_mode": {
        "name": "ipython",
        "version": 3
      },
      "file_extension": ".py",
      "mimetype": "text/x-python",
      "name": "python",
      "nbconvert_exporter": "python",
      "pygments_lexer": "ipython3",
      "version": "3.8.5"
    },
    "colab": {
      "name": "Training&Evaluation.ipynb",
      "provenance": [],
      "include_colab_link": true
    }
  },
  "cells": [
    {
      "cell_type": "markdown",
      "metadata": {
        "id": "view-in-github",
        "colab_type": "text"
      },
      "source": [
        "<a href=\"https://colab.research.google.com/github/dhruvbak/Testing-Evaluation/blob/main/Training%26Evaluation.ipynb\" target=\"_parent\"><img src=\"https://colab.research.google.com/assets/colab-badge.svg\" alt=\"Open In Colab\"/></a>"
      ]
    },
    {
      "cell_type": "markdown",
      "metadata": {
        "id": "b5cdfd6c"
      },
      "source": [
        "### Assignment: Neural Network-Training And Evaluation "
      ],
      "id": "b5cdfd6c"
    },
    {
      "cell_type": "markdown",
      "metadata": {
        "id": "bf8b41f5"
      },
      "source": [
        "#### 1. Importing all the important modules for the specific machine learning library"
      ],
      "id": "bf8b41f5"
    },
    {
      "cell_type": "code",
      "metadata": {
        "id": "936809f2"
      },
      "source": [
        "import tensorflow as tf\n",
        "import keras\n",
        "from tensorflow.keras import datasets, layers, models\n",
        "import matplotlib.pyplot as plt\n",
        "import numpy as np\n",
        "import pandas as pd\n",
        "import sklearn\n",
        "from keras import optimizers\n",
        "from keras.utils import plot_model\n",
        "from keras.models import Sequential, Model\n",
        "from keras.layers.convolutional import Conv1D, MaxPooling1D\n",
        "from keras.layers import Dense, Flatten, Dropout\n",
        "from sklearn.metrics import mean_squared_error"
      ],
      "id": "936809f2",
      "execution_count": null,
      "outputs": []
    },
    {
      "cell_type": "markdown",
      "metadata": {
        "id": "efcdaa1c"
      },
      "source": [
        "####  2. Loading the training and test dataset"
      ],
      "id": "efcdaa1c"
    },
    {
      "cell_type": "code",
      "metadata": {
        "id": "370275b8",
        "outputId": "c28f6f26-71ae-4a74-8a81-6617f0fbb2b9"
      },
      "source": [
        "(X_train, y_train), (X_test, y_test) = datasets.cifar10.load_data()\n",
        "X_train.shape"
      ],
      "id": "370275b8",
      "execution_count": null,
      "outputs": [
        {
          "output_type": "execute_result",
          "data": {
            "text/plain": [
              "(50000, 32, 32, 3)"
            ]
          },
          "metadata": {
            "tags": []
          },
          "execution_count": 2
        }
      ]
    },
    {
      "cell_type": "code",
      "metadata": {
        "id": "51fca4fb",
        "outputId": "a4bc98bd-add5-461b-f700-382c6b22336b"
      },
      "source": [
        "y_train.shape"
      ],
      "id": "51fca4fb",
      "execution_count": null,
      "outputs": [
        {
          "output_type": "execute_result",
          "data": {
            "text/plain": [
              "(50000, 1)"
            ]
          },
          "metadata": {
            "tags": []
          },
          "execution_count": 3
        }
      ]
    },
    {
      "cell_type": "code",
      "metadata": {
        "id": "ff7a96e6",
        "outputId": "f9a2049c-feb5-4fdf-bed4-b0367a2c4701"
      },
      "source": [
        "y_train[:5]"
      ],
      "id": "ff7a96e6",
      "execution_count": null,
      "outputs": [
        {
          "output_type": "execute_result",
          "data": {
            "text/plain": [
              "array([[6],\n",
              "       [9],\n",
              "       [9],\n",
              "       [4],\n",
              "       [1]], dtype=uint8)"
            ]
          },
          "metadata": {
            "tags": []
          },
          "execution_count": 4
        }
      ]
    },
    {
      "cell_type": "markdown",
      "metadata": {
        "id": "eb899ffd"
      },
      "source": [
        "#### Data Preprocessing"
      ],
      "id": "eb899ffd"
    },
    {
      "cell_type": "code",
      "metadata": {
        "id": "c6ff02cc",
        "outputId": "7eec5472-a6d4-40a9-e779-4988a6b8d794"
      },
      "source": [
        "# converting y_train, y_test into 1D array from 2D array \n",
        "y_train = y_train.reshape(-1,) \n",
        "y_train[:5]"
      ],
      "id": "c6ff02cc",
      "execution_count": null,
      "outputs": [
        {
          "output_type": "execute_result",
          "data": {
            "text/plain": [
              "array([6, 9, 9, 4, 1], dtype=uint8)"
            ]
          },
          "metadata": {
            "tags": []
          },
          "execution_count": 5
        }
      ]
    },
    {
      "cell_type": "code",
      "metadata": {
        "id": "c728529d"
      },
      "source": [
        "y_test = y_test.reshape(-1,)"
      ],
      "id": "c728529d",
      "execution_count": null,
      "outputs": []
    },
    {
      "cell_type": "code",
      "metadata": {
        "id": "33bab49d"
      },
      "source": [
        "# Normalising X_train and X_test\n",
        "X_train = X_train / 255.0\n",
        "X_test = X_test / 255.0"
      ],
      "id": "33bab49d",
      "execution_count": null,
      "outputs": []
    },
    {
      "cell_type": "markdown",
      "metadata": {
        "id": "60279103"
      },
      "source": [
        "#### 3. Model Creation"
      ],
      "id": "60279103"
    },
    {
      "cell_type": "markdown",
      "metadata": {
        "id": "4cf07a00"
      },
      "source": [
        "#### Net A"
      ],
      "id": "4cf07a00"
    },
    {
      "cell_type": "code",
      "metadata": {
        "id": "e9dcc60a"
      },
      "source": [
        "# creating class for neural network\n",
        "class NetA:\n",
        "    model1=models.Sequential([\n",
        "        layers.Flatten(input_shape=(32,32,3)),\n",
        "        layers.Dense(10, activation='softmax')    \n",
        "        ])\n",
        "# model compilatation    \n",
        "    model1.compile(optimizer='SGD',\n",
        "                   loss='sparse_categorical_crossentropy',\n",
        "                   metrics=['accuracy'])\n",
        "        "
      ],
      "id": "e9dcc60a",
      "execution_count": null,
      "outputs": []
    },
    {
      "cell_type": "code",
      "metadata": {
        "id": "9a352ce7",
        "outputId": "1d63b04f-6d6f-427f-e22b-92837143d025"
      },
      "source": [
        "# fitting the model , here testing data is used as validation data\n",
        "historyA = NetA.model1.fit(X_train, y_train, epochs=50, validation_data=(X_test, y_test))"
      ],
      "id": "9a352ce7",
      "execution_count": null,
      "outputs": [
        {
          "output_type": "stream",
          "text": [
            "Epoch 1/50\n",
            "1563/1563 [==============================] - 3s 2ms/step - loss: 1.9486 - accuracy: 0.3034 - val_loss: 1.8321 - val_accuracy: 0.3540\n",
            "Epoch 2/50\n",
            "1563/1563 [==============================] - 2s 1ms/step - loss: 1.8439 - accuracy: 0.3497 - val_loss: 1.8195 - val_accuracy: 0.3643\n",
            "Epoch 3/50\n",
            "1563/1563 [==============================] - 2s 2ms/step - loss: 1.8127 - accuracy: 0.3670 - val_loss: 1.8380 - val_accuracy: 0.3532\n",
            "Epoch 4/50\n",
            "1563/1563 [==============================] - 2s 1ms/step - loss: 1.7967 - accuracy: 0.3715 - val_loss: 1.9117 - val_accuracy: 0.3282\n",
            "Epoch 5/50\n",
            "1563/1563 [==============================] - 2s 1ms/step - loss: 1.7812 - accuracy: 0.3773 - val_loss: 1.8978 - val_accuracy: 0.3314\n",
            "Epoch 6/50\n",
            "1563/1563 [==============================] - 2s 1ms/step - loss: 1.7726 - accuracy: 0.3829 - val_loss: 1.8651 - val_accuracy: 0.3354\n",
            "Epoch 7/50\n",
            "1563/1563 [==============================] - 2s 1ms/step - loss: 1.7618 - accuracy: 0.3866 - val_loss: 1.8121 - val_accuracy: 0.3628\n",
            "Epoch 8/50\n",
            "1563/1563 [==============================] - 2s 1ms/step - loss: 1.7571 - accuracy: 0.3917 - val_loss: 2.0956 - val_accuracy: 0.2629\n",
            "Epoch 9/50\n",
            "1563/1563 [==============================] - 2s 1ms/step - loss: 1.7531 - accuracy: 0.3898 - val_loss: 1.8439 - val_accuracy: 0.3392\n",
            "Epoch 10/50\n",
            "1563/1563 [==============================] - 2s 2ms/step - loss: 1.7460 - accuracy: 0.3920 - val_loss: 1.9448 - val_accuracy: 0.3135\n",
            "Epoch 11/50\n",
            "1563/1563 [==============================] - 2s 1ms/step - loss: 1.7433 - accuracy: 0.3944 - val_loss: 1.7667 - val_accuracy: 0.3848\n",
            "Epoch 12/50\n",
            "1563/1563 [==============================] - 2s 1ms/step - loss: 1.7373 - accuracy: 0.3992 - val_loss: 1.7470 - val_accuracy: 0.3901\n",
            "Epoch 13/50\n",
            "1563/1563 [==============================] - 2s 1ms/step - loss: 1.7340 - accuracy: 0.3990 - val_loss: 1.9424 - val_accuracy: 0.3311\n",
            "Epoch 14/50\n",
            "1563/1563 [==============================] - 2s 1ms/step - loss: 1.7338 - accuracy: 0.4005 - val_loss: 1.8050 - val_accuracy: 0.3720\n",
            "Epoch 15/50\n",
            "1563/1563 [==============================] - 2s 1ms/step - loss: 1.7299 - accuracy: 0.4016 - val_loss: 1.7852 - val_accuracy: 0.3790\n",
            "Epoch 16/50\n",
            "1563/1563 [==============================] - 2s 1ms/step - loss: 1.7246 - accuracy: 0.4036 - val_loss: 1.8284 - val_accuracy: 0.3586\n",
            "Epoch 17/50\n",
            "1563/1563 [==============================] - 2s 2ms/step - loss: 1.7246 - accuracy: 0.4047 - val_loss: 1.8298 - val_accuracy: 0.3666\n",
            "Epoch 18/50\n",
            "1563/1563 [==============================] - 3s 2ms/step - loss: 1.7223 - accuracy: 0.4070 - val_loss: 1.8501 - val_accuracy: 0.3422\n",
            "Epoch 19/50\n",
            "1563/1563 [==============================] - 2s 1ms/step - loss: 1.7219 - accuracy: 0.4049 - val_loss: 1.8424 - val_accuracy: 0.3498\n",
            "Epoch 20/50\n",
            "1563/1563 [==============================] - 2s 1ms/step - loss: 1.7171 - accuracy: 0.4072 - val_loss: 1.8414 - val_accuracy: 0.3537\n",
            "Epoch 21/50\n",
            "1563/1563 [==============================] - 2s 1ms/step - loss: 1.7185 - accuracy: 0.4054 - val_loss: 1.8110 - val_accuracy: 0.3671\n",
            "Epoch 22/50\n",
            "1563/1563 [==============================] - 2s 1ms/step - loss: 1.7138 - accuracy: 0.4083 - val_loss: 1.8222 - val_accuracy: 0.3663\n",
            "Epoch 23/50\n",
            "1563/1563 [==============================] - 2s 1ms/step - loss: 1.7123 - accuracy: 0.4090 - val_loss: 1.9150 - val_accuracy: 0.3318\n",
            "Epoch 24/50\n",
            "1563/1563 [==============================] - 2s 2ms/step - loss: 1.7100 - accuracy: 0.4082 - val_loss: 1.8584 - val_accuracy: 0.3538\n",
            "Epoch 25/50\n",
            "1563/1563 [==============================] - 2s 2ms/step - loss: 1.7093 - accuracy: 0.4102 - val_loss: 1.8373 - val_accuracy: 0.3651\n",
            "Epoch 26/50\n",
            "1563/1563 [==============================] - 2s 1ms/step - loss: 1.7058 - accuracy: 0.4128 - val_loss: 1.8504 - val_accuracy: 0.3554\n",
            "Epoch 27/50\n",
            "1563/1563 [==============================] - 2s 1ms/step - loss: 1.7047 - accuracy: 0.4123 - val_loss: 1.8045 - val_accuracy: 0.3802\n",
            "Epoch 28/50\n",
            "1563/1563 [==============================] - 2s 1ms/step - loss: 1.7026 - accuracy: 0.4130 - val_loss: 1.8576 - val_accuracy: 0.3518\n",
            "Epoch 29/50\n",
            "1563/1563 [==============================] - 2s 1ms/step - loss: 1.7031 - accuracy: 0.4139 - val_loss: 1.7714 - val_accuracy: 0.3925\n",
            "Epoch 30/50\n",
            "1563/1563 [==============================] - 2s 1ms/step - loss: 1.7003 - accuracy: 0.4139 - val_loss: 1.8425 - val_accuracy: 0.3577\n",
            "Epoch 31/50\n",
            "1563/1563 [==============================] - 2s 1ms/step - loss: 1.7015 - accuracy: 0.4126 - val_loss: 1.9134 - val_accuracy: 0.3347\n",
            "Epoch 32/50\n",
            "1563/1563 [==============================] - 2s 2ms/step - loss: 1.6983 - accuracy: 0.4151 - val_loss: 1.8469 - val_accuracy: 0.3541\n",
            "Epoch 33/50\n",
            "1563/1563 [==============================] - 2s 1ms/step - loss: 1.6979 - accuracy: 0.4162 - val_loss: 1.8459 - val_accuracy: 0.3552\n",
            "Epoch 34/50\n",
            "1563/1563 [==============================] - 2s 1ms/step - loss: 1.6961 - accuracy: 0.4123 - val_loss: 1.8049 - val_accuracy: 0.3693\n",
            "Epoch 35/50\n",
            "1563/1563 [==============================] - 2s 1ms/step - loss: 1.6946 - accuracy: 0.4160 - val_loss: 1.7615 - val_accuracy: 0.3860\n",
            "Epoch 36/50\n",
            "1563/1563 [==============================] - 2s 1ms/step - loss: 1.6946 - accuracy: 0.4159 - val_loss: 1.7916 - val_accuracy: 0.3813\n",
            "Epoch 37/50\n",
            "1563/1563 [==============================] - 2s 1ms/step - loss: 1.6960 - accuracy: 0.4160 - val_loss: 1.8472 - val_accuracy: 0.3568\n",
            "Epoch 38/50\n",
            "1563/1563 [==============================] - 2s 1ms/step - loss: 1.6918 - accuracy: 0.4193 - val_loss: 1.8319 - val_accuracy: 0.3536\n",
            "Epoch 39/50\n",
            "1563/1563 [==============================] - 2s 1ms/step - loss: 1.6923 - accuracy: 0.4160 - val_loss: 1.7808 - val_accuracy: 0.3810\n",
            "Epoch 40/50\n",
            "1563/1563 [==============================] - 2s 2ms/step - loss: 1.6866 - accuracy: 0.4191 - val_loss: 1.7859 - val_accuracy: 0.3809\n",
            "Epoch 41/50\n",
            "1563/1563 [==============================] - 2s 1ms/step - loss: 1.6897 - accuracy: 0.4166 - val_loss: 1.7731 - val_accuracy: 0.3849\n",
            "Epoch 42/50\n",
            "1563/1563 [==============================] - 2s 1ms/step - loss: 1.6863 - accuracy: 0.4188 - val_loss: 1.7947 - val_accuracy: 0.3715\n",
            "Epoch 43/50\n",
            "1563/1563 [==============================] - 2s 1ms/step - loss: 1.6891 - accuracy: 0.4184 - val_loss: 1.8299 - val_accuracy: 0.3670\n",
            "Epoch 44/50\n",
            "1563/1563 [==============================] - 2s 1ms/step - loss: 1.6890 - accuracy: 0.4198 - val_loss: 1.8749 - val_accuracy: 0.3613\n",
            "Epoch 45/50\n",
            "1563/1563 [==============================] - 2s 1ms/step - loss: 1.6874 - accuracy: 0.4193 - val_loss: 1.8485 - val_accuracy: 0.3532\n",
            "Epoch 46/50\n",
            "1563/1563 [==============================] - 2s 1ms/step - loss: 1.6863 - accuracy: 0.4217 - val_loss: 1.7562 - val_accuracy: 0.3891\n",
            "Epoch 47/50\n",
            "1563/1563 [==============================] - 3s 2ms/step - loss: 1.6866 - accuracy: 0.4190 - val_loss: 1.7550 - val_accuracy: 0.3926\n",
            "Epoch 48/50\n",
            "1563/1563 [==============================] - 2s 1ms/step - loss: 1.6819 - accuracy: 0.4223 - val_loss: 1.7562 - val_accuracy: 0.3910\n",
            "Epoch 49/50\n",
            "1563/1563 [==============================] - 2s 1ms/step - loss: 1.6829 - accuracy: 0.4203 - val_loss: 1.8885 - val_accuracy: 0.3466\n",
            "Epoch 50/50\n",
            "1563/1563 [==============================] - 2s 1ms/step - loss: 1.6826 - accuracy: 0.4226 - val_loss: 1.8475 - val_accuracy: 0.3641\n"
          ],
          "name": "stdout"
        }
      ]
    },
    {
      "cell_type": "code",
      "metadata": {
        "id": "6f9915fc",
        "outputId": "98ca2f0c-d37e-4eed-9171-2afc74f61b08"
      },
      "source": [
        "# plotting training and test accuracies for model\n",
        "plt.plot(historyA.history['accuracy'])\n",
        "plt.plot(historyA.history['val_accuracy'])\n",
        "plt.title('Model Accuracy of NetA')\n",
        "plt.ylabel('Accuracy')\n",
        "plt.xlabel('Epoch')\n",
        "plt.legend(['Train', 'Test'], loc='upper left')\n",
        "plt.show()"
      ],
      "id": "6f9915fc",
      "execution_count": null,
      "outputs": [
        {
          "output_type": "display_data",
          "data": {
            "image/png": "[encoded data removed]",
            "text/plain": [
              "<Figure size 432x288 with 1 Axes>"
            ]
          },
          "metadata": {
            "tags": [],
            "needs_background": "light"
          }
        }
      ]
    },
    {
      "cell_type": "code",
      "metadata": {
        "id": "3b7ff788",
        "outputId": "39ea49ca-0bf2-420a-8324-a95d95533d89"
      },
      "source": [
        "#training and test accuracies for model\n",
        "trainA=NetA.model1.evaluate(X_train, y_train)\n",
        "testA=NetA.model1.evaluate(X_test, y_test)"
      ],
      "id": "3b7ff788",
      "execution_count": null,
      "outputs": [
        {
          "output_type": "stream",
          "text": [
            "1563/1563 [==============================] - 1s 930us/step - loss: 1.7471 - accuracy: 0.3931\n",
            "313/313 [==============================] - 0s 881us/step - loss: 1.8475 - accuracy: 0.3641\n"
          ],
          "name": "stdout"
        }
      ]
    },
    {
      "cell_type": "code",
      "metadata": {
        "id": "54ca7f82",
        "outputId": "cd0dff88-4a34-4cac-c7db-8590a0570ad8"
      },
      "source": [
        "NetA.model1.summary()"
      ],
      "id": "54ca7f82",
      "execution_count": null,
      "outputs": [
        {
          "output_type": "stream",
          "text": [
            "Model: \"sequential\"\n",
            "_________________________________________________________________\n",
            "Layer (type)                 Output Shape              Param #   \n",
            "=================================================================\n",
            "flatten (Flatten)            (None, 3072)              0         \n",
            "_________________________________________________________________\n",
            "dense (Dense)                (None, 10)                30730     \n",
            "=================================================================\n",
            "Total params: 30,730\n",
            "Trainable params: 30,730\n",
            "Non-trainable params: 0\n",
            "_________________________________________________________________\n"
          ],
          "name": "stdout"
        }
      ]
    },
    {
      "cell_type": "markdown",
      "metadata": {
        "id": "48a937a6"
      },
      "source": [
        "#### Net B"
      ],
      "id": "48a937a6"
    },
    {
      "cell_type": "code",
      "metadata": {
        "id": "4586a424"
      },
      "source": [
        "# creating class for neural network\n",
        "class NetB:\n",
        "    model2=models.Sequential([\n",
        "        layers.Flatten(input_shape=(32,32,3)), # flattening image \n",
        "        layers.Dense(300, activation='relu'), # fully connected layer with 300 neuron with relu\n",
        "        layers.Dense(10, activation='softmax') # fully connected output layer with 10 outputs      \n",
        "    ])\n",
        "# model compilatation\n",
        "    model2.compile(optimizer='SGD',\n",
        "              loss='sparse_categorical_crossentropy',\n",
        "              metrics=['accuracy'])"
      ],
      "id": "4586a424",
      "execution_count": null,
      "outputs": []
    },
    {
      "cell_type": "code",
      "metadata": {
        "id": "6be8c487",
        "outputId": "d390e5ad-4d5b-4ade-b949-3a2c068339a3"
      },
      "source": [
        "# fitting the model , here testing data is used as validation data\n",
        "historyB= NetB.model2.fit(X_train, y_train, epochs=50, validation_data=(X_test, y_test))"
      ],
      "id": "6be8c487",
      "execution_count": null,
      "outputs": [
        {
          "output_type": "stream",
          "text": [
            "Epoch 1/50\n",
            "1563/1563 [==============================] - 9s 6ms/step - loss: 1.8788 - accuracy: 0.3287 - val_loss: 1.7451 - val_accuracy: 0.3772\n",
            "Epoch 2/50\n",
            "1563/1563 [==============================] - 9s 6ms/step - loss: 1.7012 - accuracy: 0.4012 - val_loss: 1.8587 - val_accuracy: 0.3506\n",
            "Epoch 3/50\n",
            "1563/1563 [==============================] - 9s 6ms/step - loss: 1.6300 - accuracy: 0.4277 - val_loss: 1.6028 - val_accuracy: 0.4392\n",
            "Epoch 4/50\n",
            "1563/1563 [==============================] - 9s 6ms/step - loss: 1.5774 - accuracy: 0.4448 - val_loss: 1.5685 - val_accuracy: 0.4522\n",
            "Epoch 5/50\n",
            "1563/1563 [==============================] - 10s 6ms/step - loss: 1.5339 - accuracy: 0.4609 - val_loss: 1.6518 - val_accuracy: 0.4157\n",
            "Epoch 6/50\n",
            "1563/1563 [==============================] - 9s 6ms/step - loss: 1.5003 - accuracy: 0.4756 - val_loss: 1.4888 - val_accuracy: 0.4775\n",
            "Epoch 7/50\n",
            "1563/1563 [==============================] - 10s 7ms/step - loss: 1.4667 - accuracy: 0.4856 - val_loss: 1.5500 - val_accuracy: 0.4469\n",
            "Epoch 8/50\n",
            "1563/1563 [==============================] - 11s 7ms/step - loss: 1.4422 - accuracy: 0.4936 - val_loss: 1.4856 - val_accuracy: 0.4595\n",
            "Epoch 9/50\n",
            "1563/1563 [==============================] - 10s 7ms/step - loss: 1.4148 - accuracy: 0.5042 - val_loss: 1.4402 - val_accuracy: 0.4944\n",
            "Epoch 10/50\n",
            "1563/1563 [==============================] - 11s 7ms/step - loss: 1.3956 - accuracy: 0.5088 - val_loss: 1.4716 - val_accuracy: 0.4817\n",
            "Epoch 11/50\n",
            "1563/1563 [==============================] - 10s 7ms/step - loss: 1.3761 - accuracy: 0.5164 - val_loss: 1.4627 - val_accuracy: 0.4815\n",
            "Epoch 12/50\n",
            "1563/1563 [==============================] - 10s 6ms/step - loss: 1.3566 - accuracy: 0.5250 - val_loss: 1.4513 - val_accuracy: 0.4821\n",
            "Epoch 13/50\n",
            "1563/1563 [==============================] - 11s 7ms/step - loss: 1.3404 - accuracy: 0.5271 - val_loss: 1.4810 - val_accuracy: 0.4710\n",
            "Epoch 14/50\n",
            "1563/1563 [==============================] - 10s 6ms/step - loss: 1.3233 - accuracy: 0.5349 - val_loss: 1.4005 - val_accuracy: 0.4990\n",
            "Epoch 15/50\n",
            "1563/1563 [==============================] - 10s 7ms/step - loss: 1.3083 - accuracy: 0.5405 - val_loss: 1.3964 - val_accuracy: 0.5058\n",
            "Epoch 16/50\n",
            "1563/1563 [==============================] - 11s 7ms/step - loss: 1.2937 - accuracy: 0.5447 - val_loss: 1.3951 - val_accuracy: 0.5045\n",
            "Epoch 17/50\n",
            "1563/1563 [==============================] - 10s 6ms/step - loss: 1.2818 - accuracy: 0.5489 - val_loss: 1.4157 - val_accuracy: 0.4985\n",
            "Epoch 18/50\n",
            "1563/1563 [==============================] - 10s 6ms/step - loss: 1.2673 - accuracy: 0.5544 - val_loss: 1.3967 - val_accuracy: 0.5080\n",
            "Epoch 19/50\n",
            "1563/1563 [==============================] - 10s 7ms/step - loss: 1.2531 - accuracy: 0.5611 - val_loss: 1.4615 - val_accuracy: 0.4854\n",
            "Epoch 20/50\n",
            "1563/1563 [==============================] - 10s 7ms/step - loss: 1.2432 - accuracy: 0.5661 - val_loss: 1.3924 - val_accuracy: 0.5070\n",
            "Epoch 21/50\n",
            "1563/1563 [==============================] - 10s 7ms/step - loss: 1.2290 - accuracy: 0.5704 - val_loss: 1.3624 - val_accuracy: 0.5199\n",
            "Epoch 22/50\n",
            "1563/1563 [==============================] - 10s 7ms/step - loss: 1.2205 - accuracy: 0.5717 - val_loss: 1.4256 - val_accuracy: 0.4933\n",
            "Epoch 23/50\n",
            "1563/1563 [==============================] - 10s 7ms/step - loss: 1.2061 - accuracy: 0.5775 - val_loss: 1.4405 - val_accuracy: 0.4938\n",
            "Epoch 24/50\n",
            "1563/1563 [==============================] - 10s 6ms/step - loss: 1.1946 - accuracy: 0.5835 - val_loss: 1.3819 - val_accuracy: 0.5122\n",
            "Epoch 25/50\n",
            "1563/1563 [==============================] - 11s 7ms/step - loss: 1.1868 - accuracy: 0.5834 - val_loss: 1.3502 - val_accuracy: 0.5263\n",
            "Epoch 26/50\n",
            "1563/1563 [==============================] - 10s 6ms/step - loss: 1.1732 - accuracy: 0.5869 - val_loss: 1.4504 - val_accuracy: 0.4941\n",
            "Epoch 27/50\n",
            "1563/1563 [==============================] - 10s 7ms/step - loss: 1.1631 - accuracy: 0.5919 - val_loss: 1.3477 - val_accuracy: 0.5259\n",
            "Epoch 28/50\n",
            "1563/1563 [==============================] - 10s 7ms/step - loss: 1.1507 - accuracy: 0.5965 - val_loss: 1.3656 - val_accuracy: 0.5213\n",
            "Epoch 29/50\n",
            "1563/1563 [==============================] - 10s 7ms/step - loss: 1.1412 - accuracy: 0.6011 - val_loss: 1.4068 - val_accuracy: 0.5062\n",
            "Epoch 30/50\n",
            "1563/1563 [==============================] - 11s 7ms/step - loss: 1.1328 - accuracy: 0.6027 - val_loss: 1.3806 - val_accuracy: 0.5237\n",
            "Epoch 31/50\n",
            "1563/1563 [==============================] - 12s 7ms/step - loss: 1.1233 - accuracy: 0.6067 - val_loss: 1.3699 - val_accuracy: 0.5183\n",
            "Epoch 32/50\n",
            "1563/1563 [==============================] - 11s 7ms/step - loss: 1.1131 - accuracy: 0.6123 - val_loss: 1.4418 - val_accuracy: 0.5003\n",
            "Epoch 33/50\n",
            "1563/1563 [==============================] - 10s 7ms/step - loss: 1.1048 - accuracy: 0.6140 - val_loss: 1.4723 - val_accuracy: 0.4878\n",
            "Epoch 34/50\n",
            "1563/1563 [==============================] - 10s 7ms/step - loss: 1.0921 - accuracy: 0.6202 - val_loss: 1.3904 - val_accuracy: 0.5143\n",
            "Epoch 35/50\n",
            "1563/1563 [==============================] - 10s 7ms/step - loss: 1.0856 - accuracy: 0.6197 - val_loss: 1.3844 - val_accuracy: 0.5184\n",
            "Epoch 36/50\n",
            "1563/1563 [==============================] - 11s 7ms/step - loss: 1.0735 - accuracy: 0.6263 - val_loss: 1.3435 - val_accuracy: 0.5286\n",
            "Epoch 37/50\n",
            "1563/1563 [==============================] - 11s 7ms/step - loss: 1.0663 - accuracy: 0.6277 - val_loss: 1.3647 - val_accuracy: 0.5349\n",
            "Epoch 38/50\n",
            "1563/1563 [==============================] - 11s 7ms/step - loss: 1.0592 - accuracy: 0.6290 - val_loss: 1.4224 - val_accuracy: 0.5128\n",
            "Epoch 39/50\n",
            "1563/1563 [==============================] - 11s 7ms/step - loss: 1.0494 - accuracy: 0.6340 - val_loss: 1.3796 - val_accuracy: 0.5228\n",
            "Epoch 40/50\n",
            "1563/1563 [==============================] - 10s 7ms/step - loss: 1.0397 - accuracy: 0.6357 - val_loss: 1.4639 - val_accuracy: 0.4949\n",
            "Epoch 41/50\n",
            "1563/1563 [==============================] - 10s 7ms/step - loss: 1.0299 - accuracy: 0.6397 - val_loss: 1.3733 - val_accuracy: 0.5254\n",
            "Epoch 42/50\n",
            "1563/1563 [==============================] - 11s 7ms/step - loss: 1.0221 - accuracy: 0.6422 - val_loss: 1.4393 - val_accuracy: 0.5041\n",
            "Epoch 43/50\n",
            "1563/1563 [==============================] - 10s 7ms/step - loss: 1.0138 - accuracy: 0.6476 - val_loss: 1.5122 - val_accuracy: 0.4788\n",
            "Epoch 44/50\n",
            "1563/1563 [==============================] - 11s 7ms/step - loss: 1.0053 - accuracy: 0.6482 - val_loss: 1.4486 - val_accuracy: 0.5032\n",
            "Epoch 45/50\n",
            "1563/1563 [==============================] - 11s 7ms/step - loss: 0.9974 - accuracy: 0.6523 - val_loss: 1.4729 - val_accuracy: 0.4983\n",
            "Epoch 46/50\n",
            "1563/1563 [==============================] - 10s 7ms/step - loss: 0.9892 - accuracy: 0.6549 - val_loss: 1.4850 - val_accuracy: 0.4937\n",
            "Epoch 47/50\n",
            "1563/1563 [==============================] - 11s 7ms/step - loss: 0.9771 - accuracy: 0.6602 - val_loss: 1.6882 - val_accuracy: 0.4646\n",
            "Epoch 48/50\n",
            "1563/1563 [==============================] - 10s 7ms/step - loss: 0.9720 - accuracy: 0.6600 - val_loss: 1.5045 - val_accuracy: 0.4900\n",
            "Epoch 49/50\n",
            "1563/1563 [==============================] - 10s 7ms/step - loss: 0.9661 - accuracy: 0.6617 - val_loss: 1.5783 - val_accuracy: 0.4861\n",
            "Epoch 50/50\n",
            "1563/1563 [==============================] - 11s 7ms/step - loss: 0.9572 - accuracy: 0.6664 - val_loss: 1.4642 - val_accuracy: 0.5061\n"
          ],
          "name": "stdout"
        }
      ]
    },
    {
      "cell_type": "code",
      "metadata": {
        "id": "b8d95d94",
        "outputId": "0a1f50d6-1621-4bf9-b9be-2f6887905825"
      },
      "source": [
        "# plotting training and test accuracies for model\n",
        "plt.plot(historyB.history['accuracy'])\n",
        "plt.plot(historyB.history['val_accuracy'])\n",
        "plt.title('Model Accuracy of NetB')\n",
        "plt.ylabel('Accuracy')\n",
        "plt.xlabel('Epoch')\n",
        "plt.legend(['Train', 'Test'], loc='upper left')\n",
        "plt.show()"
      ],
      "id": "b8d95d94",
      "execution_count": null,
      "outputs": [
        {
          "output_type": "display_data",
          "data": {
            "image/png": "[encoded data removed]",
            "text/plain": [
              "<Figure size 432x288 with 1 Axes>"
            ]
          },
          "metadata": {
            "tags": [],
            "needs_background": "light"
          }
        }
      ]
    },
    {
      "cell_type": "code",
      "metadata": {
        "id": "cc6b2b8b",
        "outputId": "476fbb55-070b-44d5-9592-a3b992bf48e6"
      },
      "source": [
        "#training and test accuracies for model\n",
        "trainB=NetB.model2.evaluate(X_train, y_train)\n",
        "testB=NetB.model2.evaluate(X_test, y_test)"
      ],
      "id": "cc6b2b8b",
      "execution_count": null,
      "outputs": [
        {
          "output_type": "stream",
          "text": [
            "1563/1563 [==============================] - 4s 2ms/step - loss: 1.0182 - accuracy: 0.6350\n",
            "313/313 [==============================] - 1s 3ms/step - loss: 1.4642 - accuracy: 0.5061\n"
          ],
          "name": "stdout"
        }
      ]
    },
    {
      "cell_type": "code",
      "metadata": {
        "id": "d2618c96",
        "outputId": "a0f78d47-8059-4067-8656-f062e7a9299d"
      },
      "source": [
        "NetB.model2.summary()"
      ],
      "id": "d2618c96",
      "execution_count": null,
      "outputs": [
        {
          "output_type": "stream",
          "text": [
            "Model: \"sequential_1\"\n",
            "_________________________________________________________________\n",
            "Layer (type)                 Output Shape              Param #   \n",
            "=================================================================\n",
            "flatten_1 (Flatten)          (None, 3072)              0         \n",
            "_________________________________________________________________\n",
            "dense_1 (Dense)              (None, 300)               921900    \n",
            "_________________________________________________________________\n",
            "dense_2 (Dense)              (None, 10)                3010      \n",
            "=================================================================\n",
            "Total params: 924,910\n",
            "Trainable params: 924,910\n",
            "Non-trainable params: 0\n",
            "_________________________________________________________________\n"
          ],
          "name": "stdout"
        }
      ]
    },
    {
      "cell_type": "markdown",
      "metadata": {
        "id": "6ba5a21b"
      },
      "source": [
        "#### Net C"
      ],
      "id": "6ba5a21b"
    },
    {
      "cell_type": "code",
      "metadata": {
        "id": "ac563a21"
      },
      "source": [
        "# creating class for neural network\n",
        "class NetC:\n",
        "    model3=models.Sequential([\n",
        "        #convolution layer with kernel-width 5 and depth 25 andthe ReLU activation function\n",
        "        layers.Conv2D(filters=32, kernel_size=(5, 25), activation='relu', input_shape=(32, 32, 3)), \n",
        "        layers.MaxPooling2D((2, 2)),#max-pool operation with kernel-width 2 and stride 2\n",
        "        layers.Flatten(),# flattening image \n",
        "        layers.Dense(10, activation='softmax') #fully-connected output layer with 10 outputs\n",
        "])\n",
        "# model compilatation\n",
        "    model3.compile(optimizer='adam',\n",
        "              loss='sparse_categorical_crossentropy',\n",
        "              metrics=['accuracy'])"
      ],
      "id": "ac563a21",
      "execution_count": null,
      "outputs": []
    },
    {
      "cell_type": "code",
      "metadata": {
        "id": "42ec0ab0",
        "outputId": "72e53c36-e94f-4b32-b705-a495aabbb8b7"
      },
      "source": [
        "# fitting the model\n",
        "historyC= NetC.model3.fit(X_train, y_train, epochs=50, validation_data=(X_test, y_test))"
      ],
      "id": "42ec0ab0",
      "execution_count": null,
      "outputs": [
        {
          "output_type": "stream",
          "text": [
            "Epoch 1/50\n",
            "1563/1563 [==============================] - 28s 18ms/step - loss: 1.7721 - accuracy: 0.3685 - val_loss: 1.6197 - val_accuracy: 0.4218\n",
            "Epoch 2/50\n",
            "1563/1563 [==============================] - 30s 19ms/step - loss: 1.5939 - accuracy: 0.4350 - val_loss: 1.5845 - val_accuracy: 0.4395\n",
            "Epoch 3/50\n",
            "1563/1563 [==============================] - 31s 20ms/step - loss: 1.5466 - accuracy: 0.4508 - val_loss: 1.5317 - val_accuracy: 0.4523\n",
            "Epoch 4/50\n",
            "1563/1563 [==============================] - 30s 19ms/step - loss: 1.5107 - accuracy: 0.4655 - val_loss: 1.5191 - val_accuracy: 0.4625\n",
            "Epoch 5/50\n",
            "1563/1563 [==============================] - 31s 20ms/step - loss: 1.4806 - accuracy: 0.4768 - val_loss: 1.4619 - val_accuracy: 0.4877\n",
            "Epoch 6/50\n",
            "1563/1563 [==============================] - 28s 18ms/step - loss: 1.4459 - accuracy: 0.4900 - val_loss: 1.4278 - val_accuracy: 0.4918\n",
            "Epoch 7/50\n",
            "1563/1563 [==============================] - 28s 18ms/step - loss: 1.4137 - accuracy: 0.5039 - val_loss: 1.4324 - val_accuracy: 0.4961\n",
            "Epoch 8/50\n",
            "1563/1563 [==============================] - 28s 18ms/step - loss: 1.3769 - accuracy: 0.5159 - val_loss: 1.3882 - val_accuracy: 0.5128\n",
            "Epoch 9/50\n",
            "1563/1563 [==============================] - 29s 18ms/step - loss: 1.3515 - accuracy: 0.5261 - val_loss: 1.3919 - val_accuracy: 0.5193\n",
            "Epoch 10/50\n",
            "1563/1563 [==============================] - 29s 18ms/step - loss: 1.3290 - accuracy: 0.5336 - val_loss: 1.3521 - val_accuracy: 0.5250\n",
            "Epoch 11/50\n",
            "1563/1563 [==============================] - 29s 18ms/step - loss: 1.3088 - accuracy: 0.5401 - val_loss: 1.3488 - val_accuracy: 0.5275\n",
            "Epoch 12/50\n",
            "1563/1563 [==============================] - 29s 18ms/step - loss: 1.2855 - accuracy: 0.5534 - val_loss: 1.3368 - val_accuracy: 0.5366\n",
            "Epoch 13/50\n",
            "1563/1563 [==============================] - 29s 18ms/step - loss: 1.2762 - accuracy: 0.5566 - val_loss: 1.4701 - val_accuracy: 0.4910\n",
            "Epoch 14/50\n",
            "1563/1563 [==============================] - 29s 18ms/step - loss: 1.2524 - accuracy: 0.5621 - val_loss: 1.3519 - val_accuracy: 0.5328\n",
            "Epoch 15/50\n",
            "1563/1563 [==============================] - 31s 20ms/step - loss: 1.2464 - accuracy: 0.5634 - val_loss: 1.3436 - val_accuracy: 0.5375\n",
            "Epoch 16/50\n",
            "1563/1563 [==============================] - 31s 20ms/step - loss: 1.2354 - accuracy: 0.5683 - val_loss: 1.3414 - val_accuracy: 0.5395\n",
            "Epoch 17/50\n",
            "1563/1563 [==============================] - 32s 20ms/step - loss: 1.2257 - accuracy: 0.5708 - val_loss: 1.3230 - val_accuracy: 0.5439\n",
            "Epoch 18/50\n",
            "1563/1563 [==============================] - 31s 20ms/step - loss: 1.2135 - accuracy: 0.5754 - val_loss: 1.3314 - val_accuracy: 0.5408\n",
            "Epoch 19/50\n",
            "1563/1563 [==============================] - 31s 20ms/step - loss: 1.2049 - accuracy: 0.5786 - val_loss: 1.4899 - val_accuracy: 0.5089\n",
            "Epoch 20/50\n",
            "1563/1563 [==============================] - 31s 20ms/step - loss: 1.1996 - accuracy: 0.5794 - val_loss: 1.3243 - val_accuracy: 0.5461\n",
            "Epoch 21/50\n",
            "1563/1563 [==============================] - 31s 20ms/step - loss: 1.1883 - accuracy: 0.5845 - val_loss: 1.3437 - val_accuracy: 0.5439\n",
            "Epoch 22/50\n",
            "1563/1563 [==============================] - 31s 20ms/step - loss: 1.1802 - accuracy: 0.5846 - val_loss: 1.2971 - val_accuracy: 0.5562\n",
            "Epoch 23/50\n",
            "1563/1563 [==============================] - 31s 20ms/step - loss: 1.1750 - accuracy: 0.5883 - val_loss: 1.3580 - val_accuracy: 0.5367\n",
            "Epoch 24/50\n",
            "1563/1563 [==============================] - 31s 20ms/step - loss: 1.1659 - accuracy: 0.5917 - val_loss: 1.3349 - val_accuracy: 0.5423\n",
            "Epoch 25/50\n",
            "1563/1563 [==============================] - 31s 20ms/step - loss: 1.1598 - accuracy: 0.5937 - val_loss: 1.3156 - val_accuracy: 0.5541\n",
            "Epoch 26/50\n",
            "1563/1563 [==============================] - 31s 20ms/step - loss: 1.1566 - accuracy: 0.5947 - val_loss: 1.3094 - val_accuracy: 0.5544\n",
            "Epoch 27/50\n",
            "1563/1563 [==============================] - 31s 20ms/step - loss: 1.1522 - accuracy: 0.5967 - val_loss: 1.3457 - val_accuracy: 0.5514\n",
            "Epoch 28/50\n",
            "1563/1563 [==============================] - 32s 20ms/step - loss: 1.1462 - accuracy: 0.5944 - val_loss: 1.3750 - val_accuracy: 0.5393\n",
            "Epoch 29/50\n",
            "1563/1563 [==============================] - 31s 20ms/step - loss: 1.1407 - accuracy: 0.5991 - val_loss: 1.3242 - val_accuracy: 0.5529\n",
            "Epoch 30/50\n",
            "1563/1563 [==============================] - 35s 22ms/step - loss: 1.1379 - accuracy: 0.6003 - val_loss: 1.3276 - val_accuracy: 0.5489\n",
            "Epoch 31/50\n",
            "1563/1563 [==============================] - 32s 21ms/step - loss: 1.1338 - accuracy: 0.6030 - val_loss: 1.3965 - val_accuracy: 0.5249\n",
            "Epoch 32/50\n",
            "1563/1563 [==============================] - 36s 23ms/step - loss: 1.1299 - accuracy: 0.6037 - val_loss: 1.3734 - val_accuracy: 0.5432\n",
            "Epoch 33/50\n",
            "1563/1563 [==============================] - 36s 23ms/step - loss: 1.1219 - accuracy: 0.6080 - val_loss: 1.3543 - val_accuracy: 0.5473\n",
            "Epoch 34/50\n",
            "1563/1563 [==============================] - 35s 22ms/step - loss: 1.1194 - accuracy: 0.6075 - val_loss: 1.3428 - val_accuracy: 0.5535\n",
            "Epoch 35/50\n",
            "1563/1563 [==============================] - 34s 22ms/step - loss: 1.1162 - accuracy: 0.6070 - val_loss: 1.3533 - val_accuracy: 0.5477\n",
            "Epoch 36/50\n",
            "1563/1563 [==============================] - 35s 22ms/step - loss: 1.1122 - accuracy: 0.6105 - val_loss: 1.4791 - val_accuracy: 0.5201\n",
            "Epoch 37/50\n",
            "1563/1563 [==============================] - 33s 21ms/step - loss: 1.1066 - accuracy: 0.6129 - val_loss: 1.3430 - val_accuracy: 0.5516\n",
            "Epoch 38/50\n",
            "1563/1563 [==============================] - 33s 21ms/step - loss: 1.1050 - accuracy: 0.6129 - val_loss: 1.3543 - val_accuracy: 0.5540\n",
            "Epoch 39/50\n",
            "1563/1563 [==============================] - 32s 20ms/step - loss: 1.1014 - accuracy: 0.6152 - val_loss: 1.3812 - val_accuracy: 0.5423\n",
            "Epoch 40/50\n",
            "1563/1563 [==============================] - 31s 20ms/step - loss: 1.0998 - accuracy: 0.6155 - val_loss: 1.3563 - val_accuracy: 0.5535\n",
            "Epoch 41/50\n",
            "1563/1563 [==============================] - 33s 21ms/step - loss: 1.0938 - accuracy: 0.6157 - val_loss: 1.4080 - val_accuracy: 0.5377\n",
            "Epoch 42/50\n",
            "1563/1563 [==============================] - 31s 20ms/step - loss: 1.0844 - accuracy: 0.6201 - val_loss: 1.3586 - val_accuracy: 0.5543\n",
            "Epoch 43/50\n",
            "1563/1563 [==============================] - 31s 20ms/step - loss: 1.0864 - accuracy: 0.6193 - val_loss: 1.4528 - val_accuracy: 0.5349\n",
            "Epoch 44/50\n",
            "1563/1563 [==============================] - 32s 20ms/step - loss: 1.0838 - accuracy: 0.6201 - val_loss: 1.3517 - val_accuracy: 0.5473\n",
            "Epoch 45/50\n",
            "1563/1563 [==============================] - 31s 20ms/step - loss: 1.0778 - accuracy: 0.6205 - val_loss: 1.3542 - val_accuracy: 0.5528\n",
            "Epoch 46/50\n",
            "1563/1563 [==============================] - 32s 20ms/step - loss: 1.0770 - accuracy: 0.6222 - val_loss: 1.3540 - val_accuracy: 0.5577\n",
            "Epoch 47/50\n",
            "1563/1563 [==============================] - 31s 20ms/step - loss: 1.0723 - accuracy: 0.6215 - val_loss: 1.3816 - val_accuracy: 0.5638\n",
            "Epoch 48/50\n",
            "1563/1563 [==============================] - 31s 20ms/step - loss: 1.0722 - accuracy: 0.6239 - val_loss: 1.3693 - val_accuracy: 0.5471\n",
            "Epoch 49/50\n",
            "1563/1563 [==============================] - 33s 21ms/step - loss: 1.0679 - accuracy: 0.6272 - val_loss: 1.3751 - val_accuracy: 0.5587\n",
            "Epoch 50/50\n",
            "1563/1563 [==============================] - 32s 21ms/step - loss: 1.0619 - accuracy: 0.6259 - val_loss: 1.3631 - val_accuracy: 0.5527\n"
          ],
          "name": "stdout"
        }
      ]
    },
    {
      "cell_type": "code",
      "metadata": {
        "id": "bcd8f505",
        "outputId": "eabe7eb1-3967-4133-a2bc-c5b5be1af57e"
      },
      "source": [
        "# plotting training and test accuracies for model\n",
        "plt.plot(historyC.history['accuracy'])\n",
        "plt.plot(historyC.history['val_accuracy'])\n",
        "plt.title('Model Accuracy of NetC')\n",
        "plt.ylabel('Accuracy')\n",
        "plt.xlabel('Epoch')\n",
        "plt.legend(['Train', 'Test'], loc='upper left')\n",
        "plt.show()"
      ],
      "id": "bcd8f505",
      "execution_count": null,
      "outputs": [
        {
          "output_type": "display_data",
          "data": {
            "image/png": "[encoded data removed]",
            "text/plain": [
              "<Figure size 432x288 with 1 Axes>"
            ]
          },
          "metadata": {
            "tags": [],
            "needs_background": "light"
          }
        }
      ]
    },
    {
      "cell_type": "code",
      "metadata": {
        "id": "f07a364f",
        "outputId": "038c2b64-b4f4-4301-a9cd-14471760967d"
      },
      "source": [
        "#training and test accuracies for model\n",
        "trainC=NetC.model3.evaluate(X_train, y_train)\n",
        "testC=NetC.model3.evaluate(X_test, y_test)"
      ],
      "id": "f07a364f",
      "execution_count": null,
      "outputs": [
        {
          "output_type": "stream",
          "text": [
            "1563/1563 [==============================] - 8s 5ms/step - loss: 1.0113 - accuracy: 0.6462\n",
            "313/313 [==============================] - 1s 5ms/step - loss: 1.3631 - accuracy: 0.5527\n"
          ],
          "name": "stdout"
        }
      ]
    },
    {
      "cell_type": "code",
      "metadata": {
        "id": "53128867",
        "outputId": "c21a6d08-6f4f-4b9c-c15b-e72ae0697f86"
      },
      "source": [
        "NetC.model3.summary()"
      ],
      "id": "53128867",
      "execution_count": null,
      "outputs": [
        {
          "output_type": "stream",
          "text": [
            "Model: \"sequential_2\"\n",
            "_________________________________________________________________\n",
            "Layer (type)                 Output Shape              Param #   \n",
            "=================================================================\n",
            "conv2d (Conv2D)              (None, 28, 8, 32)         12032     \n",
            "_________________________________________________________________\n",
            "max_pooling2d (MaxPooling2D) (None, 14, 4, 32)         0         \n",
            "_________________________________________________________________\n",
            "flatten_2 (Flatten)          (None, 1792)              0         \n",
            "_________________________________________________________________\n",
            "dense_3 (Dense)              (None, 10)                17930     \n",
            "=================================================================\n",
            "Total params: 29,962\n",
            "Trainable params: 29,962\n",
            "Non-trainable params: 0\n",
            "_________________________________________________________________\n"
          ],
          "name": "stdout"
        }
      ]
    },
    {
      "cell_type": "markdown",
      "metadata": {
        "id": "21b8b47a"
      },
      "source": [
        "#### Summary of 3 models"
      ],
      "id": "21b8b47a"
    },
    {
      "cell_type": "code",
      "metadata": {
        "id": "9d5b191a",
        "outputId": "6094b5a8-d48c-4e03-aeba-ffc81f7ff338"
      },
      "source": [
        "plt.plot(historyA.history['accuracy'])\n",
        "plt.plot(historyB.history['accuracy'])\n",
        "plt.plot(historyC.history['accuracy'])\n",
        "plt.title('Training Accuracy of Models')\n",
        "plt.ylabel('Accuracy')\n",
        "plt.xlabel('Epoch')\n",
        "plt.legend(['NetA', 'NetB','NetC'], loc='upper left')\n",
        "plt.show()\n",
        "print(\"Training Accuracy of NetA : \", trainA[1])  \n",
        "print(\"Training Accuracy of NetA : \", trainB[1])\n",
        "print(\"Training Accuracy of NetA : \", trainC[1])\n",
        "plt.plot(historyA.history['val_accuracy'])\n",
        "plt.plot(historyB.history['val_accuracy'])\n",
        "plt.plot(historyC.history['val_accuracy'])\n",
        "plt.title('Testing Accuracy of Models')\n",
        "plt.ylabel('Accuracy')\n",
        "plt.xlabel('Epoch')\n",
        "plt.legend(['NetA', 'NetB','NetC'], loc='upper left')\n",
        "plt.show()\n",
        "print(\"Testing Accuracy of NetA : \", testA[1])  \n",
        "print(\"Testing Accuracy of NetA : \", testB[1])\n",
        "print(\"Testing Accuracy of NetA : \", testC[1])"
      ],
      "id": "9d5b191a",
      "execution_count": null,
      "outputs": [
        {
          "output_type": "display_data",
          "data": {
            "image/png": "[encoded data removed]",
            "text/plain": [
              "<Figure size 432x288 with 1 Axes>"
            ]
          },
          "metadata": {
            "tags": [],
            "needs_background": "light"
          }
        },
        {
          "output_type": "stream",
          "text": [
            "Training Accuracy of NetA :  0.39305999875068665\n",
            "Training Accuracy of NetA :  0.6350399851799011\n",
            "Training Accuracy of NetA :  0.6462399959564209\n"
          ],
          "name": "stdout"
        },
        {
          "output_type": "display_data",
          "data": {
            "image/png": "[encoded data removed]",
            "text/plain": [
              "<Figure size 432x288 with 1 Axes>"
            ]
          },
          "metadata": {
            "tags": [],
            "needs_background": "light"
          }
        },
        {
          "output_type": "stream",
          "text": [
            "Testing Accuracy of NetA :  0.36410000920295715\n",
            "Testing Accuracy of NetA :  0.5060999989509583\n",
            "Testing Accuracy of NetA :  0.5526999831199646\n"
          ],
          "name": "stdout"
        }
      ]
    },
    {
      "cell_type": "markdown",
      "metadata": {
        "id": "b9722d65"
      },
      "source": [
        "                                                                                                     Made by : Dhruv Bakshi"
      ],
      "id": "b9722d65"
    },
    {
      "cell_type": "code",
      "metadata": {
        "id": "6853ee97"
      },
      "source": [
        ""
      ],
      "id": "6853ee97",
      "execution_count": null,
      "outputs": []
    }
  ]
}